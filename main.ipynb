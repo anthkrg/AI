{
 "cells": [
  {
   "cell_type": "markdown",
   "id": "fb010c82-bcf4-4b61-a8cf-d84a24c6bfae",
   "metadata": {},
   "source": [
    "# Titanic ML/DL Challenge\n",
    "### Use of Deep Learning DNN programm to solve Titanic challenge\n",
    "#### You can retrieve description about this challenge in the README.md file\n",
    "**Link of the challenge : https://www.kaggle.com/competitions/titanic** "
   ]
  },
  {
   "cell_type": "markdown",
   "id": "003bd835-649b-407f-a44a-31be3bb92e2b",
   "metadata": {},
   "source": [
    "## Prepare Data"
   ]
  },
  {
   "cell_type": "markdown",
   "id": "6a02a6c1-5c56-4990-a6c9-bf8ea56ecd34",
   "metadata": {},
   "source": [
    "#### First, we must import each dependancies we're going to use"
   ]
  },
  {
   "cell_type": "code",
   "execution_count": 210,
   "id": "f1c2c49f-a5ad-486a-b97b-e7615b362dd0",
   "metadata": {},
   "outputs": [],
   "source": [
    "# We need tensorflow, keras, pandas and numpy dependancies\n",
    "\n",
    "import numpy as np\n",
    "import pandas as pd\n",
    "import tensorflow as tf\n",
    "from tensorflow import keras"
   ]
  },
  {
   "cell_type": "code",
   "execution_count": 211,
   "id": "c0cdfef3-9344-4442-a075-1e74fe71b671",
   "metadata": {},
   "outputs": [],
   "source": [
    "# Version of each dependancies\n",
    "# Uncomment if you want to check versions\n",
    "\n",
    "# print(\"numpy version:\")\n",
    "# print(np.__version__)\n",
    "\n",
    "# print() # Uncomment this one to display properly\n",
    "\n",
    "# print(\"pandas version:\")\n",
    "# print(pd.__version__)\n",
    "\n",
    "# print() # Uncomment this one to display properly\n",
    "\n",
    "# print(\"tensorflow version:\")\n",
    "# print(tf.__version__)\n",
    "\n",
    "# print() # Uncomment this one to display properly\n",
    "\n",
    "# print(\"keras version:\")\n",
    "# print(keras.__version__)"
   ]
  },
  {
   "cell_type": "markdown",
   "id": "67b6ffbe-645c-4805-8ca8-704ee4503b05",
   "metadata": {},
   "source": [
    "#### Read data in .csv files\n",
    "**Use pandas to read data from .csv file**"
   ]
  },
  {
   "cell_type": "code",
   "execution_count": 212,
   "id": "2ab0ad25-832a-4da4-aa52-734b2e31c57c",
   "metadata": {},
   "outputs": [
    {
     "name": "stdout",
     "output_type": "stream",
     "text": [
      "Number of person in data_train before cleaning:\n",
      "891\n"
     ]
    }
   ],
   "source": [
    "# Convert 'train.csv' in dataframe format and keep only 'Survived', 'Pclass', 'Sex', 'Age', 'Parch', 'SibSp' and 'Fare' columns\n",
    "# Read README.md to know why I keep theses\n",
    "data_train = pd.read_csv(\"train.csv\", usecols=[\"Survived\", \"Pclass\", \"Sex\", \"Age\", \"Parch\", \"SibSp\", \"Fare\"])\n",
    "\n",
    "# Read data_train\n",
    "\n",
    "# print(data_train.head())\n",
    "# Uncomment the previous lines if you want to check the result\n",
    "# print() # Uncomment this one to display properly\n",
    "print(\"Number of person in data_train before cleaning:\")\n",
    "print(len(data_train))"
   ]
  },
  {
   "cell_type": "code",
   "execution_count": 213,
   "id": "9e1ef3f9-a84a-4b68-8316-d0f6187178f1",
   "metadata": {},
   "outputs": [
    {
     "name": "stdout",
     "output_type": "stream",
     "text": [
      "Number of person in the data_train after cleaning:\n",
      "714\n"
     ]
    }
   ],
   "source": [
    "# Clean data to keep only person with all columns filled\n",
    "\n",
    "data_train = data_train.dropna()\n",
    "\n",
    "# print(data_train.head())\n",
    "# Uncomment the previous line if you want to check the result\n",
    "# print() # Uncomment this one to display properly\n",
    "print(\"Number of person in the data_train after cleaning:\")\n",
    "print(len(data_train)) # Number of person in data_train after cleaning"
   ]
  },
  {
   "cell_type": "markdown",
   "id": "752d9049-f4ba-40ba-b40b-7a0cdb42e991",
   "metadata": {},
   "source": [
    "#### Change options in 'Sex' column\n",
    "We must to change 'male' and 'female' options in 'Sex' column because Deep Learning DNN programm can only take number to produce results\n",
    "\n",
    "**One possibility is to change 'male' to '1' and 'female' to '0' to differenciate them with number (or '0' to male and '1' to 'female' it doesn't matter)**\n"
   ]
  },
  {
   "cell_type": "code",
   "execution_count": 214,
   "id": "7482a157-d083-4aac-888f-083fc5c78e39",
   "metadata": {},
   "outputs": [],
   "source": [
    "# Change 'male' to '1' and 'female' to '0'\n",
    "\n",
    "data_train[\"Sex\"] = data_train[\"Sex\"].map({'male': 1, 'female': 0}).fillna(data_train[\"Sex\"])\n",
    "\n",
    "# print(data_train.head())\n",
    "# Uncomment the previous line if you want to check the result"
   ]
  },
  {
   "cell_type": "markdown",
   "id": "64a13a57-fbaa-4cc8-b1b1-5784df780311",
   "metadata": {},
   "source": [
    "## Create DNN"
   ]
  },
  {
   "cell_type": "markdown",
   "id": "95b84e67-c719-4155-91eb-a5327e6fea81",
   "metadata": {},
   "source": [
    "#### To create the DNN, we use Keras from tensorflow\n",
    "**We must import the sequential model, Dense layers**\n",
    "\n",
    "**Also, we need scikit-learn to normalize data via MinMaxScaler**"
   ]
  },
  {
   "cell_type": "code",
   "execution_count": 215,
   "id": "a29c465b-fb40-4706-b429-47ef2a61c42d",
   "metadata": {},
   "outputs": [],
   "source": [
    "# import all we need \n",
    "\n",
    "from tensorflow.keras.models import Sequential\n",
    "from tensorflow.keras.layers import Dense\n",
    "from sklearn.preprocessing import MinMaxScaler"
   ]
  },
  {
   "cell_type": "markdown",
   "id": "dee52877-70a1-4e4c-8dce-75e2e11503a9",
   "metadata": {},
   "source": [
    "**Then, we need to transform our data_train to be used in our model**"
   ]
  },
  {
   "cell_type": "code",
   "execution_count": 216,
   "id": "eaf5092e-8183-4e14-b94a-6f0fbf9a3c14",
   "metadata": {},
   "outputs": [],
   "source": [
    "# Transform data_train\n",
    "\n",
    "# Extract variables and label\n",
    "\n",
    "X_train = data_train.drop('Survived', axis=1) # Remove Survived column\n",
    "Y_train = data_train['Survived'] # Extract label\n",
    "\n",
    "# Convert in numpy array\n",
    "\n",
    "X_train = X_train.values\n",
    "Y_train = Y_train.values\n",
    "\n",
    "# print(X_train) # Uncomment to see the result\n"
   ]
  },
  {
   "cell_type": "code",
   "execution_count": 217,
   "id": "adc29419-aace-4cb5-821d-bb67fbaa1cc5",
   "metadata": {},
   "outputs": [
    {
     "name": "stdout",
     "output_type": "stream",
     "text": [
      "Model: \"sequential_10\"\n",
      "_________________________________________________________________\n",
      " Layer (type)                Output Shape              Param #   \n",
      "=================================================================\n",
      " dense_30 (Dense)            (None, 8)                 56        \n",
      "                                                                 \n",
      " dense_31 (Dense)            (None, 8)                 72        \n",
      "                                                                 \n",
      " dense_32 (Dense)            (None, 1)                 9         \n",
      "                                                                 \n",
      "=================================================================\n",
      "Total params: 137\n",
      "Trainable params: 137\n",
      "Non-trainable params: 0\n",
      "_________________________________________________________________\n"
     ]
    }
   ],
   "source": [
    "# Build DNN\n",
    "\n",
    "# Get input shape\n",
    "input_size = X_train.shape[1]\n",
    "\n",
    "# Normalize data\n",
    "scaler = MinMaxScaler()\n",
    "X_train = scaler.fit_transform(X_train)\n",
    "\n",
    "\n",
    "# Create Model\n",
    "model = Sequential([\n",
    "    Dense(8, activation='relu', input_shape=(input_size,)), # input layer (6 nodes)\n",
    "    Dense(8, activation='relu'),\n",
    "    Dense(1, activation='sigmoid'),\n",
    "])\n",
    "\n",
    "# Compile Model\n",
    "model.compile(optimizer='adam', loss='binary_crossentropy', metrics=['accuracy'])\n",
    "\n",
    "# Summary Model\n",
    "model.summary()"
   ]
  },
  {
   "cell_type": "markdown",
   "id": "1695352b-f760-4b2a-8727-b2278195e954",
   "metadata": {},
   "source": [
    "**Train model**"
   ]
  },
  {
   "cell_type": "code",
   "execution_count": 218,
   "id": "3a9f87bf-b5c2-4073-a73c-195dd66e4c37",
   "metadata": {},
   "outputs": [
    {
     "name": "stdout",
     "output_type": "stream",
     "text": [
      "Epoch 1/100\n",
      "18/18 [==============================] - 1s 29ms/step - loss: 0.6929 - accuracy: 0.4904 - val_loss: 0.6838 - val_accuracy: 0.7483\n",
      "Epoch 2/100\n",
      "18/18 [==============================] - 0s 9ms/step - loss: 0.6804 - accuracy: 0.6883 - val_loss: 0.6700 - val_accuracy: 0.7552\n",
      "Epoch 3/100\n",
      "18/18 [==============================] - 0s 2ms/step - loss: 0.6687 - accuracy: 0.6935 - val_loss: 0.6564 - val_accuracy: 0.7552\n",
      "Epoch 4/100\n",
      "18/18 [==============================] - 0s 11ms/step - loss: 0.6561 - accuracy: 0.7005 - val_loss: 0.6395 - val_accuracy: 0.7552\n",
      "Epoch 5/100\n",
      "18/18 [==============================] - 0s 10ms/step - loss: 0.6407 - accuracy: 0.7040 - val_loss: 0.6240 - val_accuracy: 0.7552\n",
      "Epoch 6/100\n",
      "18/18 [==============================] - 0s 14ms/step - loss: 0.6272 - accuracy: 0.7163 - val_loss: 0.6077 - val_accuracy: 0.7692\n",
      "Epoch 7/100\n",
      "18/18 [==============================] - 0s 17ms/step - loss: 0.6133 - accuracy: 0.7285 - val_loss: 0.5925 - val_accuracy: 0.7692\n",
      "Epoch 8/100\n",
      "18/18 [==============================] - 0s 14ms/step - loss: 0.5996 - accuracy: 0.7531 - val_loss: 0.5780 - val_accuracy: 0.7762\n",
      "Epoch 9/100\n",
      "18/18 [==============================] - 0s 20ms/step - loss: 0.5861 - accuracy: 0.7723 - val_loss: 0.5621 - val_accuracy: 0.7972\n",
      "Epoch 10/100\n",
      "18/18 [==============================] - 0s 21ms/step - loss: 0.5719 - accuracy: 0.7828 - val_loss: 0.5449 - val_accuracy: 0.8322\n",
      "Epoch 11/100\n",
      "18/18 [==============================] - 0s 7ms/step - loss: 0.5574 - accuracy: 0.7916 - val_loss: 0.5290 - val_accuracy: 0.8042\n",
      "Epoch 12/100\n",
      "18/18 [==============================] - 0s 14ms/step - loss: 0.5448 - accuracy: 0.7846 - val_loss: 0.5147 - val_accuracy: 0.8042\n",
      "Epoch 13/100\n",
      "18/18 [==============================] - 0s 12ms/step - loss: 0.5332 - accuracy: 0.7811 - val_loss: 0.5031 - val_accuracy: 0.8112\n",
      "Epoch 14/100\n",
      "18/18 [==============================] - 0s 11ms/step - loss: 0.5240 - accuracy: 0.7811 - val_loss: 0.4935 - val_accuracy: 0.8112\n",
      "Epoch 15/100\n",
      "18/18 [==============================] - 0s 7ms/step - loss: 0.5161 - accuracy: 0.7811 - val_loss: 0.4861 - val_accuracy: 0.8112\n",
      "Epoch 16/100\n",
      "18/18 [==============================] - 0s 4ms/step - loss: 0.5105 - accuracy: 0.7811 - val_loss: 0.4791 - val_accuracy: 0.8112\n",
      "Epoch 17/100\n",
      "18/18 [==============================] - 0s 6ms/step - loss: 0.5046 - accuracy: 0.7828 - val_loss: 0.4747 - val_accuracy: 0.8112\n",
      "Epoch 18/100\n",
      "18/18 [==============================] - 0s 4ms/step - loss: 0.5016 - accuracy: 0.7828 - val_loss: 0.4702 - val_accuracy: 0.8112\n",
      "Epoch 19/100\n",
      "18/18 [==============================] - 0s 4ms/step - loss: 0.4974 - accuracy: 0.7811 - val_loss: 0.4671 - val_accuracy: 0.8112\n",
      "Epoch 20/100\n",
      "18/18 [==============================] - 0s 4ms/step - loss: 0.4947 - accuracy: 0.7846 - val_loss: 0.4642 - val_accuracy: 0.8112\n",
      "Epoch 21/100\n",
      "18/18 [==============================] - 0s 3ms/step - loss: 0.4917 - accuracy: 0.7811 - val_loss: 0.4620 - val_accuracy: 0.8112\n",
      "Epoch 22/100\n",
      "18/18 [==============================] - 0s 4ms/step - loss: 0.4894 - accuracy: 0.7846 - val_loss: 0.4597 - val_accuracy: 0.8112\n",
      "Epoch 23/100\n",
      "18/18 [==============================] - 0s 4ms/step - loss: 0.4878 - accuracy: 0.7828 - val_loss: 0.4578 - val_accuracy: 0.8112\n",
      "Epoch 24/100\n",
      "18/18 [==============================] - 0s 4ms/step - loss: 0.4859 - accuracy: 0.7811 - val_loss: 0.4561 - val_accuracy: 0.8112\n",
      "Epoch 25/100\n",
      "18/18 [==============================] - 0s 13ms/step - loss: 0.4840 - accuracy: 0.7776 - val_loss: 0.4544 - val_accuracy: 0.8112\n",
      "Epoch 26/100\n",
      "18/18 [==============================] - 0s 13ms/step - loss: 0.4826 - accuracy: 0.7776 - val_loss: 0.4525 - val_accuracy: 0.8112\n",
      "Epoch 27/100\n",
      "18/18 [==============================] - 0s 7ms/step - loss: 0.4812 - accuracy: 0.7793 - val_loss: 0.4509 - val_accuracy: 0.8112\n",
      "Epoch 28/100\n",
      "18/18 [==============================] - 0s 4ms/step - loss: 0.4796 - accuracy: 0.7793 - val_loss: 0.4493 - val_accuracy: 0.8112\n",
      "Epoch 29/100\n",
      "18/18 [==============================] - 0s 9ms/step - loss: 0.4784 - accuracy: 0.7793 - val_loss: 0.4478 - val_accuracy: 0.8112\n",
      "Epoch 30/100\n",
      "18/18 [==============================] - 0s 2ms/step - loss: 0.4776 - accuracy: 0.7793 - val_loss: 0.4466 - val_accuracy: 0.8112\n",
      "Epoch 31/100\n",
      "18/18 [==============================] - 0s 7ms/step - loss: 0.4763 - accuracy: 0.7811 - val_loss: 0.4453 - val_accuracy: 0.8112\n",
      "Epoch 32/100\n",
      "18/18 [==============================] - 0s 6ms/step - loss: 0.4753 - accuracy: 0.7811 - val_loss: 0.4446 - val_accuracy: 0.8112\n",
      "Epoch 33/100\n",
      "18/18 [==============================] - 0s 6ms/step - loss: 0.4738 - accuracy: 0.7811 - val_loss: 0.4432 - val_accuracy: 0.8112\n",
      "Epoch 34/100\n",
      "18/18 [==============================] - 0s 9ms/step - loss: 0.4730 - accuracy: 0.7811 - val_loss: 0.4422 - val_accuracy: 0.8112\n",
      "Epoch 35/100\n",
      "18/18 [==============================] - 0s 5ms/step - loss: 0.4722 - accuracy: 0.7811 - val_loss: 0.4411 - val_accuracy: 0.8112\n",
      "Epoch 36/100\n",
      "18/18 [==============================] - 0s 10ms/step - loss: 0.4712 - accuracy: 0.7793 - val_loss: 0.4401 - val_accuracy: 0.8112\n",
      "Epoch 37/100\n",
      "18/18 [==============================] - 0s 5ms/step - loss: 0.4697 - accuracy: 0.7793 - val_loss: 0.4392 - val_accuracy: 0.8112\n",
      "Epoch 38/100\n",
      "18/18 [==============================] - 0s 4ms/step - loss: 0.4689 - accuracy: 0.7828 - val_loss: 0.4382 - val_accuracy: 0.8112\n",
      "Epoch 39/100\n",
      "18/18 [==============================] - 0s 28ms/step - loss: 0.4681 - accuracy: 0.7846 - val_loss: 0.4371 - val_accuracy: 0.8112\n",
      "Epoch 40/100\n",
      "18/18 [==============================] - 0s 21ms/step - loss: 0.4673 - accuracy: 0.7811 - val_loss: 0.4363 - val_accuracy: 0.8112\n",
      "Epoch 41/100\n",
      "18/18 [==============================] - 0s 7ms/step - loss: 0.4666 - accuracy: 0.7811 - val_loss: 0.4351 - val_accuracy: 0.8112\n",
      "Epoch 42/100\n",
      "18/18 [==============================] - 0s 14ms/step - loss: 0.4654 - accuracy: 0.7811 - val_loss: 0.4343 - val_accuracy: 0.8112\n",
      "Epoch 43/100\n",
      "18/18 [==============================] - 0s 12ms/step - loss: 0.4647 - accuracy: 0.7828 - val_loss: 0.4336 - val_accuracy: 0.8112\n",
      "Epoch 44/100\n",
      "18/18 [==============================] - 0s 9ms/step - loss: 0.4643 - accuracy: 0.7828 - val_loss: 0.4327 - val_accuracy: 0.8112\n",
      "Epoch 45/100\n",
      "18/18 [==============================] - 0s 10ms/step - loss: 0.4635 - accuracy: 0.7811 - val_loss: 0.4318 - val_accuracy: 0.8112\n",
      "Epoch 46/100\n",
      "18/18 [==============================] - 0s 10ms/step - loss: 0.4624 - accuracy: 0.7828 - val_loss: 0.4309 - val_accuracy: 0.8112\n",
      "Epoch 47/100\n",
      "18/18 [==============================] - 0s 9ms/step - loss: 0.4621 - accuracy: 0.7828 - val_loss: 0.4302 - val_accuracy: 0.8112\n",
      "Epoch 48/100\n",
      "18/18 [==============================] - 0s 10ms/step - loss: 0.4611 - accuracy: 0.7863 - val_loss: 0.4292 - val_accuracy: 0.8112\n",
      "Epoch 49/100\n",
      "18/18 [==============================] - 0s 9ms/step - loss: 0.4612 - accuracy: 0.7846 - val_loss: 0.4287 - val_accuracy: 0.8112\n",
      "Epoch 50/100\n",
      "18/18 [==============================] - 0s 10ms/step - loss: 0.4597 - accuracy: 0.7846 - val_loss: 0.4276 - val_accuracy: 0.8112\n",
      "Epoch 51/100\n",
      "18/18 [==============================] - 0s 15ms/step - loss: 0.4594 - accuracy: 0.7863 - val_loss: 0.4268 - val_accuracy: 0.8182\n",
      "Epoch 52/100\n",
      "18/18 [==============================] - 0s 10ms/step - loss: 0.4586 - accuracy: 0.7881 - val_loss: 0.4259 - val_accuracy: 0.8182\n",
      "Epoch 53/100\n",
      "18/18 [==============================] - 0s 9ms/step - loss: 0.4578 - accuracy: 0.7863 - val_loss: 0.4252 - val_accuracy: 0.8112\n",
      "Epoch 54/100\n",
      "18/18 [==============================] - 0s 13ms/step - loss: 0.4577 - accuracy: 0.7828 - val_loss: 0.4248 - val_accuracy: 0.8112\n",
      "Epoch 55/100\n",
      "18/18 [==============================] - 0s 13ms/step - loss: 0.4566 - accuracy: 0.7828 - val_loss: 0.4238 - val_accuracy: 0.8182\n",
      "Epoch 56/100\n",
      "18/18 [==============================] - 0s 14ms/step - loss: 0.4563 - accuracy: 0.7881 - val_loss: 0.4230 - val_accuracy: 0.8182\n",
      "Epoch 57/100\n",
      "18/18 [==============================] - 0s 9ms/step - loss: 0.4558 - accuracy: 0.7881 - val_loss: 0.4223 - val_accuracy: 0.8112\n",
      "Epoch 58/100\n",
      "18/18 [==============================] - 0s 10ms/step - loss: 0.4551 - accuracy: 0.7898 - val_loss: 0.4215 - val_accuracy: 0.8182\n",
      "Epoch 59/100\n",
      "18/18 [==============================] - 0s 10ms/step - loss: 0.4546 - accuracy: 0.7898 - val_loss: 0.4208 - val_accuracy: 0.8112\n",
      "Epoch 60/100\n",
      "18/18 [==============================] - 0s 9ms/step - loss: 0.4542 - accuracy: 0.7863 - val_loss: 0.4202 - val_accuracy: 0.8112\n",
      "Epoch 61/100\n",
      "18/18 [==============================] - 0s 16ms/step - loss: 0.4538 - accuracy: 0.7916 - val_loss: 0.4192 - val_accuracy: 0.8252\n",
      "Epoch 62/100\n",
      "18/18 [==============================] - 0s 9ms/step - loss: 0.4532 - accuracy: 0.7916 - val_loss: 0.4185 - val_accuracy: 0.8182\n",
      "Epoch 63/100\n",
      "18/18 [==============================] - 0s 12ms/step - loss: 0.4527 - accuracy: 0.7881 - val_loss: 0.4177 - val_accuracy: 0.8182\n",
      "Epoch 64/100\n",
      "18/18 [==============================] - 0s 13ms/step - loss: 0.4519 - accuracy: 0.7933 - val_loss: 0.4171 - val_accuracy: 0.8322\n",
      "Epoch 65/100\n",
      "18/18 [==============================] - 0s 9ms/step - loss: 0.4523 - accuracy: 0.7881 - val_loss: 0.4162 - val_accuracy: 0.8322\n",
      "Epoch 66/100\n",
      "18/18 [==============================] - 0s 13ms/step - loss: 0.4510 - accuracy: 0.7916 - val_loss: 0.4154 - val_accuracy: 0.8322\n",
      "Epoch 67/100\n",
      "18/18 [==============================] - 0s 10ms/step - loss: 0.4506 - accuracy: 0.7898 - val_loss: 0.4147 - val_accuracy: 0.8322\n",
      "Epoch 68/100\n",
      "18/18 [==============================] - 0s 14ms/step - loss: 0.4502 - accuracy: 0.7898 - val_loss: 0.4143 - val_accuracy: 0.8392\n",
      "Epoch 69/100\n",
      "18/18 [==============================] - 0s 7ms/step - loss: 0.4500 - accuracy: 0.7933 - val_loss: 0.4133 - val_accuracy: 0.8392\n",
      "Epoch 70/100\n",
      "18/18 [==============================] - 0s 4ms/step - loss: 0.4498 - accuracy: 0.7863 - val_loss: 0.4134 - val_accuracy: 0.8392\n",
      "Epoch 71/100\n",
      "18/18 [==============================] - 0s 6ms/step - loss: 0.4490 - accuracy: 0.7898 - val_loss: 0.4123 - val_accuracy: 0.8392\n",
      "Epoch 72/100\n",
      "18/18 [==============================] - 0s 4ms/step - loss: 0.4488 - accuracy: 0.7968 - val_loss: 0.4117 - val_accuracy: 0.8392\n",
      "Epoch 73/100\n",
      "18/18 [==============================] - 0s 4ms/step - loss: 0.4480 - accuracy: 0.7951 - val_loss: 0.4110 - val_accuracy: 0.8392\n",
      "Epoch 74/100\n",
      "18/18 [==============================] - 0s 3ms/step - loss: 0.4483 - accuracy: 0.7951 - val_loss: 0.4105 - val_accuracy: 0.8392\n",
      "Epoch 75/100\n",
      "18/18 [==============================] - 0s 3ms/step - loss: 0.4471 - accuracy: 0.7986 - val_loss: 0.4096 - val_accuracy: 0.8392\n",
      "Epoch 76/100\n",
      "18/18 [==============================] - 0s 4ms/step - loss: 0.4469 - accuracy: 0.7968 - val_loss: 0.4092 - val_accuracy: 0.8392\n",
      "Epoch 77/100\n",
      "18/18 [==============================] - 0s 5ms/step - loss: 0.4466 - accuracy: 0.7933 - val_loss: 0.4087 - val_accuracy: 0.8392\n",
      "Epoch 78/100\n",
      "18/18 [==============================] - 0s 3ms/step - loss: 0.4462 - accuracy: 0.7951 - val_loss: 0.4081 - val_accuracy: 0.8392\n",
      "Epoch 79/100\n",
      "18/18 [==============================] - 0s 3ms/step - loss: 0.4457 - accuracy: 0.7968 - val_loss: 0.4074 - val_accuracy: 0.8392\n",
      "Epoch 80/100\n",
      "18/18 [==============================] - 0s 4ms/step - loss: 0.4465 - accuracy: 0.7986 - val_loss: 0.4065 - val_accuracy: 0.8392\n",
      "Epoch 81/100\n",
      "18/18 [==============================] - 0s 3ms/step - loss: 0.4456 - accuracy: 0.7986 - val_loss: 0.4066 - val_accuracy: 0.8392\n",
      "Epoch 82/100\n",
      "18/18 [==============================] - 0s 3ms/step - loss: 0.4446 - accuracy: 0.7951 - val_loss: 0.4058 - val_accuracy: 0.8392\n",
      "Epoch 83/100\n",
      "18/18 [==============================] - 0s 3ms/step - loss: 0.4445 - accuracy: 0.7968 - val_loss: 0.4052 - val_accuracy: 0.8392\n",
      "Epoch 84/100\n",
      "18/18 [==============================] - 0s 4ms/step - loss: 0.4440 - accuracy: 0.7968 - val_loss: 0.4048 - val_accuracy: 0.8392\n",
      "Epoch 85/100\n",
      "18/18 [==============================] - 0s 3ms/step - loss: 0.4442 - accuracy: 0.7986 - val_loss: 0.4038 - val_accuracy: 0.8392\n",
      "Epoch 86/100\n",
      "18/18 [==============================] - 0s 4ms/step - loss: 0.4434 - accuracy: 0.7968 - val_loss: 0.4035 - val_accuracy: 0.8392\n",
      "Epoch 87/100\n",
      "18/18 [==============================] - 0s 3ms/step - loss: 0.4438 - accuracy: 0.7968 - val_loss: 0.4037 - val_accuracy: 0.8392\n",
      "Epoch 88/100\n",
      "18/18 [==============================] - 0s 2ms/step - loss: 0.4433 - accuracy: 0.7968 - val_loss: 0.4025 - val_accuracy: 0.8392\n",
      "Epoch 89/100\n",
      "18/18 [==============================] - 0s 2ms/step - loss: 0.4426 - accuracy: 0.7968 - val_loss: 0.4022 - val_accuracy: 0.8392\n",
      "Epoch 90/100\n",
      "18/18 [==============================] - 0s 2ms/step - loss: 0.4426 - accuracy: 0.7968 - val_loss: 0.4018 - val_accuracy: 0.8392\n",
      "Epoch 91/100\n",
      "18/18 [==============================] - 0s 3ms/step - loss: 0.4422 - accuracy: 0.7951 - val_loss: 0.4007 - val_accuracy: 0.8392\n",
      "Epoch 92/100\n",
      "18/18 [==============================] - 0s 4ms/step - loss: 0.4419 - accuracy: 0.7968 - val_loss: 0.4001 - val_accuracy: 0.8392\n",
      "Epoch 93/100\n",
      "18/18 [==============================] - 0s 6ms/step - loss: 0.4419 - accuracy: 0.7968 - val_loss: 0.4000 - val_accuracy: 0.8392\n",
      "Epoch 94/100\n",
      "18/18 [==============================] - 0s 7ms/step - loss: 0.4413 - accuracy: 0.7986 - val_loss: 0.3996 - val_accuracy: 0.8392\n",
      "Epoch 95/100\n",
      "18/18 [==============================] - 0s 4ms/step - loss: 0.4411 - accuracy: 0.7986 - val_loss: 0.3992 - val_accuracy: 0.8392\n",
      "Epoch 96/100\n",
      "18/18 [==============================] - 0s 4ms/step - loss: 0.4409 - accuracy: 0.8021 - val_loss: 0.3982 - val_accuracy: 0.8392\n",
      "Epoch 97/100\n",
      "18/18 [==============================] - 0s 4ms/step - loss: 0.4406 - accuracy: 0.8021 - val_loss: 0.3977 - val_accuracy: 0.8392\n",
      "Epoch 98/100\n",
      "18/18 [==============================] - 0s 4ms/step - loss: 0.4404 - accuracy: 0.7986 - val_loss: 0.3976 - val_accuracy: 0.8392\n",
      "Epoch 99/100\n",
      "18/18 [==============================] - 0s 4ms/step - loss: 0.4405 - accuracy: 0.7986 - val_loss: 0.3969 - val_accuracy: 0.8392\n",
      "Epoch 100/100\n",
      "18/18 [==============================] - 0s 4ms/step - loss: 0.4400 - accuracy: 0.7986 - val_loss: 0.3965 - val_accuracy: 0.8392\n"
     ]
    },
    {
     "data": {
      "text/plain": [
       "<keras.callbacks.History at 0x7bd65042b3a0>"
      ]
     },
     "execution_count": 218,
     "metadata": {},
     "output_type": "execute_result"
    }
   ],
   "source": [
    "# Training\n",
    "\n",
    "model.fit(X_train, Y_train, epochs=100, batch_size=32, validation_split=0.2) \n",
    "\n"
   ]
  },
  {
   "cell_type": "markdown",
   "id": "1f0ef72c-4a15-4bbd-9085-a8621fa0a5bc",
   "metadata": {},
   "source": [
    "#### Then we need to get data test and clean it"
   ]
  },
  {
   "cell_type": "markdown",
   "id": "c767514e-cfeb-4c82-bae1-3156607524ae",
   "metadata": {},
   "source": [
    "**Import test data and transform it in dataframe**\n",
    "\n",
    "**Keep 'Sex', 'Pclass', 'Age', 'Parch', 'Fare', 'SibSp' columns**"
   ]
  },
  {
   "cell_type": "code",
   "execution_count": 219,
   "id": "fc92051f-fe41-4d51-9291-40d39aa418c7",
   "metadata": {},
   "outputs": [
    {
     "name": "stdout",
     "output_type": "stream",
     "text": [
      "\n"
     ]
    }
   ],
   "source": [
    "data_test_with_passengerid = pd.read_csv(\"test.csv\", usecols=[\"PassengerId\", \"Sex\", \"Pclass\", \"Age\", \"Parch\", \"Fare\", \"SibSp\"])\n",
    "\n",
    "# print(data_test.head()) # Uncomment to see result\n",
    "print()\n",
    "# print(\"Number of person:\") # Uncomment to see result\n",
    "# print(len(data_test)) # Uncomment to see result"
   ]
  },
  {
   "cell_type": "code",
   "execution_count": 220,
   "id": "efafb1cb-c4b1-4376-b400-d6e11922ca23",
   "metadata": {},
   "outputs": [
    {
     "name": "stdout",
     "output_type": "stream",
     "text": [
      "\n"
     ]
    }
   ],
   "source": [
    "# Remove every person without complete row\n",
    "\n",
    "data_test_with_passengerid = data_test_with_passengerid.dropna()\n",
    "\n",
    "# print(data_test.head()) # Uncomment to see result\n",
    "print()\n",
    "# print(\"Number of person:\") # Uncomment to see result\n",
    "# print(len(data_test)) # Uncomment to see result"
   ]
  },
  {
   "cell_type": "code",
   "execution_count": 221,
   "id": "ce4f1778-0cf2-4eff-bdb7-8b20defc4321",
   "metadata": {},
   "outputs": [],
   "source": [
    "# Change 'male' to '1' and 'female' to '0'\n",
    "\n",
    "data_test_with_passengerid[\"Sex\"] = data_test_with_passengerid[\"Sex\"].map({'male': 1, 'female': 0}).fillna(data_test_with_passengerid[\"Sex\"])\n",
    "\n",
    "# print(data_train.head())\n",
    "# Uncomment the previous line if you want to check the result"
   ]
  },
  {
   "cell_type": "markdown",
   "id": "5012f744-3b68-4a64-b067-115315bb9ea9",
   "metadata": {},
   "source": [
    "**Extract all columns except 'PassengerId'**"
   ]
  },
  {
   "cell_type": "code",
   "execution_count": 222,
   "id": "4d71300c-4053-40b5-8265-09310cb77ee0",
   "metadata": {},
   "outputs": [],
   "source": [
    "# Extract\n",
    "\n",
    "data_test = data_test_with_passengerid[[\"Sex\", \"Pclass\", \"Age\", \"Parch\", \"Fare\", \"SibSp\"]]\n",
    "\n",
    "# print(data_test.head()) # Uncomment to see the result"
   ]
  },
  {
   "cell_type": "markdown",
   "id": "349a6983-4423-4e60-9943-870fed2a8498",
   "metadata": {},
   "source": [
    "**Transform data_test in numpy array**"
   ]
  },
  {
   "cell_type": "code",
   "execution_count": 223,
   "id": "2931c0c4-1738-4f92-98fa-c285636afcaf",
   "metadata": {},
   "outputs": [],
   "source": [
    "# Transform\n",
    "\n",
    "X_test = data_test.values\n",
    "\n",
    "# Normalize data\n",
    "scaler = MinMaxScaler()\n",
    "X_test = scaler.fit_transform(X_test)\n",
    "\n"
   ]
  },
  {
   "cell_type": "markdown",
   "id": "0b81d28e-cade-4bec-982f-63cbc277b892",
   "metadata": {},
   "source": [
    "## Use of DNN programm\n",
    "#### Prediction"
   ]
  },
  {
   "cell_type": "markdown",
   "id": "59899b50-ec05-4309-a0b7-018d6dbeed79",
   "metadata": {},
   "source": [
    "**We're going to use our model to predict label for the data_test**"
   ]
  },
  {
   "cell_type": "code",
   "execution_count": 224,
   "id": "43b61318-cca8-44d0-a5ef-0858004bee4e",
   "metadata": {},
   "outputs": [
    {
     "name": "stdout",
     "output_type": "stream",
     "text": [
      "11/11 [==============================] - 0s 4ms/step\n"
     ]
    }
   ],
   "source": [
    "# Prediction\n",
    "\n",
    "predictions = model.predict(X_test)\n",
    "\n",
    "# print(predictions) # Uncomment to see the result before classification\n",
    "\n",
    "predictions = (predictions >= 0.5).astype(int)\n",
    "\n",
    "# print (predictions) # Uncomment to see the result after classification\n"
   ]
  },
  {
   "cell_type": "markdown",
   "id": "256610b9-c702-45cc-abd3-78269e966ddd",
   "metadata": {},
   "source": [
    "#### Convert data to csv\n",
    "**Now, we're going to add 'predictions' dataframe to data_test_with_passengerid dataframe**"
   ]
  },
  {
   "cell_type": "code",
   "execution_count": 225,
   "id": "686e3f54-819e-4f91-90a7-77aea19dacdb",
   "metadata": {},
   "outputs": [],
   "source": [
    "# Add 'predictions' as column in data_test\n",
    "\n",
    "data_test_with_passengerid['Survived'] = predictions\n",
    "\n",
    "# print(data_test.head(50)) # Uncomment to see the result"
   ]
  },
  {
   "cell_type": "markdown",
   "id": "091f336c-ad7f-4d2e-8f91-870eaf290977",
   "metadata": {},
   "source": [
    "**Extract 'PassengerId' and 'Survived' columns**"
   ]
  },
  {
   "cell_type": "code",
   "execution_count": 226,
   "id": "c912186c-6420-469e-814a-bb99b6147e7b",
   "metadata": {},
   "outputs": [],
   "source": [
    "# Extract\n",
    "\n",
    "results = data_test_with_passengerid[['PassengerId', 'Survived']]\n",
    "\n",
    "# print(results.head(50)) # Uncomment to see the result"
   ]
  },
  {
   "cell_type": "markdown",
   "id": "921f03da-5036-448a-8418-f9c3a43ecaba",
   "metadata": {},
   "source": [
    "**Convert 'result' to csv**"
   ]
  },
  {
   "cell_type": "code",
   "execution_count": 227,
   "id": "33c79244-838f-40d0-bebe-1c8adbc4ff0b",
   "metadata": {},
   "outputs": [],
   "source": [
    "# Convert to 'results.csv' file\n",
    "\n",
    "results.to_csv(\"results.csv\", index=False)\n"
   ]
  },
  {
   "cell_type": "markdown",
   "id": "b302b897-aa39-4378-b794-ba95a7b30f5e",
   "metadata": {},
   "source": [
    "#### End of the challenge, results are in the 'results.csv' file in the current directory"
   ]
  }
 ],
 "metadata": {
  "kernelspec": {
   "display_name": "Python 3 (ipykernel)",
   "language": "python",
   "name": "python3"
  },
  "language_info": {
   "codemirror_mode": {
    "name": "ipython",
    "version": 3
   },
   "file_extension": ".py",
   "mimetype": "text/x-python",
   "name": "python",
   "nbconvert_exporter": "python",
   "pygments_lexer": "ipython3",
   "version": "3.10.13"
  }
 },
 "nbformat": 4,
 "nbformat_minor": 5
}
